{
 "cells": [
  {
   "cell_type": "code",
   "execution_count": 3,
   "id": "e515d96e",
   "metadata": {},
   "outputs": [],
   "source": [
    "import mysql.connector as conn"
   ]
  },
  {
   "cell_type": "code",
   "execution_count": 4,
   "id": "72669a38",
   "metadata": {},
   "outputs": [],
   "source": [
    "class database:\n",
    "    def __init__(self,host,username,password,databasename=None):\n",
    "        try:\n",
    "            \n",
    "            self.db = conn.connect(\n",
    "                host   = host,\n",
    "                user     = username,\n",
    "                password   = password\n",
    "            )\n",
    "        except Exception as e:\n",
    "            print(e)\n",
    "    def connection(self):\n",
    "        return self.db\n",
    "    \n",
    "    def createdatabase(self,databasename):\n",
    "        self.databasename=databasename\n",
    "        sql=f\"CREATE DATABASE {self.databasename}\"\n",
    "        cursor=self.db.cursor()\n",
    "        cursor.execute(sql)\n",
    "class table(database):\n",
    "    def __init__(self,host,username,password):\n",
    "        try:\n",
    "            \n",
    "            self.db = conn.connect(\n",
    "                host   = host,\n",
    "                user     = username,\n",
    "                password   = password,\n",
    "                database= \"student3\"\n",
    "            )\n",
    "        except Exception as e:\n",
    "            print(e)\n",
    "    def createtable(self):\n",
    "        \n",
    "        sql=\"CREATE TABLE stu_info(id integer primary key auto_increment,name varchar(255),dept varchar(255))\"\n",
    "        cursor=self.db.cursor()\n",
    "        cursor.execute(sql)\n",
    "        cursor.close()\n",
    "        self.db.close()\n",
    "        \n",
    "    def insert(self,Id,Name,Dept):\n",
    "        val=(id,'Name','Dept')\n",
    "        sql =\"INSERT INTO stu_info(id,name,dept) VALUES({},'{}','{}')\".format(Id,Name,Dept)\n",
    "        \n",
    "        \n",
    "        cursor=self.db.cursor()\n",
    "        cursor.execute(sql)\n",
    "        self.db.commit()\n",
    "        cursor.close()\n",
    "        self.db.close()\n",
    "    \n",
    "    def select(self):\n",
    "        sql=\"SELECT * FROM stu_info\"\n",
    "        cursor=self.db.cursor()\n",
    "        cursor.execute(sql)\n",
    "        res=cursor.fetchall()\n",
    "        for i in res:\n",
    "            print(i)\n",
    "        cursor.close()\n",
    "        self.db.close()\n",
    "        \n",
    "    def update(self):\n",
    "        sql=\"UPDATE  stu_info SET name='Nishad' WHERE id =6\"\n",
    "        cursor=self.db.cursor()\n",
    "        cursor.execute(sql)\n",
    "        self.db.commit()\n",
    "        cursor.close()\n",
    "        self.db.close()\n",
    "    \n",
    "    \n",
    "    def delete(self):\n",
    "        sql=\"DELETE FROM stu_info WHERE name='Riad'\"\n",
    "        cursor=self.db.cursor()\n",
    "        cursor.execute(sql)\n",
    "        cursor.close()\n",
    "        self.db.cursor()\n",
    "    \n",
    "    \n",
    "         "
   ]
  },
  {
   "cell_type": "code",
   "execution_count": 7,
   "id": "6c5bc2c8",
   "metadata": {},
   "outputs": [
    {
     "data": {
      "text/plain": [
       "<mysql.connector.connection_cext.CMySQLConnection at 0x2150cdbee20>"
      ]
     },
     "execution_count": 7,
     "metadata": {},
     "output_type": "execute_result"
    }
   ],
   "source": [
    "Database=table(\"localhost\",\"root\",\"\")\n",
    "Database.connection()"
   ]
  },
  {
   "cell_type": "code",
   "execution_count": 75,
   "id": "0e4437e8",
   "metadata": {},
   "outputs": [],
   "source": [
    "Database.createdatabase(\"student3\")"
   ]
  },
  {
   "cell_type": "code",
   "execution_count": 85,
   "id": "d4d6db75",
   "metadata": {},
   "outputs": [],
   "source": [
    "Database.createtable()"
   ]
  },
  {
   "cell_type": "code",
   "execution_count": 90,
   "id": "5e6d0646",
   "metadata": {},
   "outputs": [],
   "source": [
    "Database.insert(0,\"Minhaj\",\"Economics\")"
   ]
  },
  {
   "cell_type": "code",
   "execution_count": 101,
   "id": "df16ae8c",
   "metadata": {},
   "outputs": [
    {
     "name": "stdout",
     "output_type": "stream",
     "text": [
      "(1, 'Minhaj', 'Economics')\n",
      "(5, 'Nishad', 'CSE')\n",
      "(6, 'Ripon', 'BBA')\n"
     ]
    }
   ],
   "source": [
    "Database.select()"
   ]
  },
  {
   "cell_type": "code",
   "execution_count": 99,
   "id": "7abd8c08",
   "metadata": {},
   "outputs": [],
   "source": [
    "Database.insert(0, 'Ripon', 'BBA')"
   ]
  },
  {
   "cell_type": "code",
   "execution_count": 95,
   "id": "394ee0c1",
   "metadata": {},
   "outputs": [],
   "source": [
    "Database.insert(0, 'Nishad', 'CSE')"
   ]
  },
  {
   "cell_type": "code",
   "execution_count": 104,
   "id": "d262ac94",
   "metadata": {},
   "outputs": [],
   "source": [
    "Database.insert(0, 'Riad', 'CSE')"
   ]
  },
  {
   "cell_type": "code",
   "execution_count": 107,
   "id": "d13ae941",
   "metadata": {},
   "outputs": [
    {
     "name": "stdout",
     "output_type": "stream",
     "text": [
      "(1, 'Minhaj', 'Economics')\n",
      "(5, 'Nishad', 'CSE')\n",
      "(6, 'Ripon', 'BBA')\n",
      "(7, 'Riad', 'CSE')\n"
     ]
    }
   ],
   "source": [
    "Database.select()"
   ]
  },
  {
   "cell_type": "code",
   "execution_count": 110,
   "id": "9a24965f",
   "metadata": {},
   "outputs": [],
   "source": [
    "Database.update()"
   ]
  },
  {
   "cell_type": "code",
   "execution_count": null,
   "id": "88c07f13",
   "metadata": {},
   "outputs": [],
   "source": [
    "Database.select()"
   ]
  },
  {
   "cell_type": "code",
   "execution_count": 6,
   "id": "87e20ece",
   "metadata": {},
   "outputs": [],
   "source": [
    "Database.delete()"
   ]
  },
  {
   "cell_type": "code",
   "execution_count": 8,
   "id": "0028e17f",
   "metadata": {
    "scrolled": true
   },
   "outputs": [
    {
     "name": "stdout",
     "output_type": "stream",
     "text": [
      "(1, 'Minhaj', 'Economics')\n",
      "(5, 'Nishad', 'CSE')\n",
      "(6, 'Nishad', 'BBA')\n",
      "(7, 'Riad', 'CSE')\n"
     ]
    }
   ],
   "source": [
    "Database.select()"
   ]
  },
  {
   "cell_type": "code",
   "execution_count": 6,
   "id": "df610e5d",
   "metadata": {},
   "outputs": [],
   "source": [
    "Database.insert(0, 'Nishan', 'CSE')"
   ]
  },
  {
   "cell_type": "code",
   "execution_count": 8,
   "id": "9bc376e6",
   "metadata": {},
   "outputs": [
    {
     "name": "stdout",
     "output_type": "stream",
     "text": [
      "(1, 'Minhaj', 'Economics')\n",
      "(5, 'Nishad', 'CSE')\n",
      "(6, 'Nishad', 'BBA')\n",
      "(7, 'Riad', 'CSE')\n",
      "(14, 'Nishan', 'CSE')\n"
     ]
    }
   ],
   "source": [
    "Database.select()"
   ]
  }
 ],
 "metadata": {
  "kernelspec": {
   "display_name": "Python 3 (ipykernel)",
   "language": "python",
   "name": "python3"
  },
  "language_info": {
   "codemirror_mode": {
    "name": "ipython",
    "version": 3
   },
   "file_extension": ".py",
   "mimetype": "text/x-python",
   "name": "python",
   "nbconvert_exporter": "python",
   "pygments_lexer": "ipython3",
   "version": "3.9.7"
  }
 },
 "nbformat": 4,
 "nbformat_minor": 5
}
