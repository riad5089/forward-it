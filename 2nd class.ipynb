{
 "cells": [
  {
   "cell_type": "markdown",
   "id": "01783582",
   "metadata": {},
   "source": [
    "# Condition"
   ]
  },
  {
   "cell_type": "code",
   "execution_count": 1,
   "id": "b2a34649",
   "metadata": {},
   "outputs": [
    {
     "name": "stdout",
     "output_type": "stream",
     "text": [
      "true\n"
     ]
    }
   ],
   "source": [
    "money=2000\n",
    "if (money>1000) & (money>1999):\n",
    "    print(\"true\")"
   ]
  },
  {
   "cell_type": "markdown",
   "id": "a6b11220",
   "metadata": {},
   "source": [
    "# Loop"
   ]
  },
  {
   "cell_type": "code",
   "execution_count": 2,
   "id": "939979ed",
   "metadata": {},
   "outputs": [
    {
     "name": "stdout",
     "output_type": "stream",
     "text": [
      "0\n",
      "1\n",
      "2\n",
      "3\n",
      "4\n",
      "5\n",
      "6\n",
      "7\n",
      "8\n",
      "9\n"
     ]
    }
   ],
   "source": [
    "i=0\n",
    "n=10\n",
    "while i<n:\n",
    "    print(i)\n",
    "    i+=1"
   ]
  },
  {
   "cell_type": "code",
   "execution_count": null,
   "id": "89615b2f",
   "metadata": {},
   "outputs": [],
   "source": [
    "i=int(input())"
   ]
  },
  {
   "cell_type": "code",
   "execution_count": null,
   "id": "e3151795",
   "metadata": {},
   "outputs": [],
   "source": [
    "i"
   ]
  },
  {
   "cell_type": "code",
   "execution_count": 12,
   "id": "0f109da0",
   "metadata": {},
   "outputs": [],
   "source": [
    "import numpy "
   ]
  },
  {
   "cell_type": "code",
   "execution_count": 13,
   "id": "b3440d71",
   "metadata": {},
   "outputs": [
    {
     "data": {
      "text/plain": [
       "array([[1., 1., 1., 1.],\n",
       "       [1., 1., 1., 1.],\n",
       "       [1., 1., 1., 1.]])"
      ]
     },
     "execution_count": 13,
     "metadata": {},
     "output_type": "execute_result"
    }
   ],
   "source": [
    "numpy.ones((3,4))"
   ]
  },
  {
   "cell_type": "code",
   "execution_count": 14,
   "id": "639d66fa",
   "metadata": {},
   "outputs": [
    {
     "data": {
      "text/plain": [
       "array([ 1,  2,  3,  4,  5,  6,  7,  8,  9, 10, 11, 12])"
      ]
     },
     "execution_count": 14,
     "metadata": {},
     "output_type": "execute_result"
    }
   ],
   "source": [
    "numpy.arange(1,13)"
   ]
  },
  {
   "cell_type": "code",
   "execution_count": 17,
   "id": "dc81aab5",
   "metadata": {},
   "outputs": [
    {
     "data": {
      "text/plain": [
       "4"
      ]
     },
     "execution_count": 17,
     "metadata": {},
     "output_type": "execute_result"
    }
   ],
   "source": [
    "a=[4,4,3,3]\n",
    "a[0]"
   ]
  },
  {
   "cell_type": "code",
   "execution_count": 18,
   "id": "5bb8affa",
   "metadata": {},
   "outputs": [
    {
     "data": {
      "text/plain": [
       "list"
      ]
     },
     "execution_count": 18,
     "metadata": {},
     "output_type": "execute_result"
    }
   ],
   "source": [
    "type(a)"
   ]
  },
  {
   "cell_type": "code",
   "execution_count": 20,
   "id": "41a6974b",
   "metadata": {},
   "outputs": [],
   "source": [
    "population=np.random.rand(30)"
   ]
  },
  {
   "cell_type": "code",
   "execution_count": 21,
   "id": "4badad52",
   "metadata": {},
   "outputs": [
    {
     "data": {
      "text/plain": [
       "array([0.04882702, 0.67495696, 0.13303344, 0.87692462, 0.63762436,\n",
       "       0.86796718, 0.12165028, 0.615041  , 0.26242786, 0.01525779,\n",
       "       0.17396317, 0.7347972 , 0.95299815, 0.77505527, 0.59525011,\n",
       "       0.57186993, 0.52035534, 0.83206507, 0.44355784, 0.84630667,\n",
       "       0.08861829, 0.99760471, 0.29926102, 0.01658016, 0.14940951,\n",
       "       0.24031733, 0.95712588, 0.78021281, 0.25610664, 0.5815006 ])"
      ]
     },
     "execution_count": 21,
     "metadata": {},
     "output_type": "execute_result"
    }
   ],
   "source": [
    "population"
   ]
  },
  {
   "cell_type": "code",
   "execution_count": 22,
   "id": "79fc1d4f",
   "metadata": {},
   "outputs": [],
   "source": [
    "sample=np.random.choice(population,15)"
   ]
  },
  {
   "cell_type": "code",
   "execution_count": 23,
   "id": "6109a227",
   "metadata": {},
   "outputs": [
    {
     "data": {
      "text/plain": [
       "array([0.95712588, 0.25610664, 0.83206507, 0.01525779, 0.29926102,\n",
       "       0.7347972 , 0.5815006 , 0.01525779, 0.84630667, 0.01658016,\n",
       "       0.14940951, 0.67495696, 0.95299815, 0.5815006 , 0.14940951])"
      ]
     },
     "execution_count": 23,
     "metadata": {},
     "output_type": "execute_result"
    }
   ],
   "source": [
    "sample"
   ]
  },
  {
   "cell_type": "code",
   "execution_count": null,
   "id": "d0e01b2a",
   "metadata": {},
   "outputs": [],
   "source": [
    "a=int(input(\"enter a value\"))"
   ]
  },
  {
   "cell_type": "code",
   "execution_count": null,
   "id": "bd9b6399",
   "metadata": {},
   "outputs": [],
   "source": [
    "a"
   ]
  },
  {
   "cell_type": "code",
   "execution_count": null,
   "id": "cbdab238",
   "metadata": {},
   "outputs": [],
   "source": [
    "for i in range(1,10):\n",
    "    print(i)"
   ]
  },
  {
   "cell_type": "code",
   "execution_count": null,
   "id": "61668dea",
   "metadata": {},
   "outputs": [],
   "source": [
    "#loof\n"
   ]
  }
 ],
 "metadata": {
  "kernelspec": {
   "display_name": "Python 3 (ipykernel)",
   "language": "python",
   "name": "python3"
  },
  "language_info": {
   "codemirror_mode": {
    "name": "ipython",
    "version": 3
   },
   "file_extension": ".py",
   "mimetype": "text/x-python",
   "name": "python",
   "nbconvert_exporter": "python",
   "pygments_lexer": "ipython3",
   "version": "3.9.7"
  }
 },
 "nbformat": 4,
 "nbformat_minor": 5
}
