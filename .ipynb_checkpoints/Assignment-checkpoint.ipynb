{
 "cells": [
  {
   "cell_type": "code",
   "execution_count": 26,
   "id": "294cccba",
   "metadata": {},
   "outputs": [],
   "source": [
    "class Employee:\n",
    "    name=\"\"\n",
    "    dept=\"\"\n",
    "    salary=\"\"\n",
    "    def __init__(self,name,dept,salary):\n",
    "        self.name=name\n",
    "        self.dept=dept\n",
    "        self.salary=salary\n",
    "    def get_emp_name(self):\n",
    "        return self.name\n",
    "    def get_emp_dept(self):\n",
    "        return self.dept\n",
    "    def get_emp_salary(self):\n",
    "        return self.salary\n",
    "    def __str__(self):\n",
    "        return self.name+\" \"+self.dept+\" \"+self.salary"
   ]
  },
  {
   "cell_type": "code",
   "execution_count": 27,
   "id": "68d3e1e0",
   "metadata": {},
   "outputs": [],
   "source": [
    "emp=Employee(\"Ripon\",\"BBA\",\"20000\")"
   ]
  },
  {
   "cell_type": "code",
   "execution_count": 28,
   "id": "53ebf817",
   "metadata": {},
   "outputs": [
    {
     "data": {
      "text/plain": [
       "'Ripon'"
      ]
     },
     "execution_count": 28,
     "metadata": {},
     "output_type": "execute_result"
    }
   ],
   "source": [
    "emp.get_emp_name()"
   ]
  },
  {
   "cell_type": "code",
   "execution_count": 29,
   "id": "cc169ca5",
   "metadata": {},
   "outputs": [
    {
     "data": {
      "text/plain": [
       "'BBA'"
      ]
     },
     "execution_count": 29,
     "metadata": {},
     "output_type": "execute_result"
    }
   ],
   "source": [
    "emp.get_emp_dept()"
   ]
  },
  {
   "cell_type": "code",
   "execution_count": 30,
   "id": "e09a7bfe",
   "metadata": {},
   "outputs": [
    {
     "data": {
      "text/plain": [
       "'20000'"
      ]
     },
     "execution_count": 30,
     "metadata": {},
     "output_type": "execute_result"
    }
   ],
   "source": [
    "emp.get_emp_salary()"
   ]
  },
  {
   "cell_type": "code",
   "execution_count": 31,
   "id": "e1474bf4",
   "metadata": {},
   "outputs": [
    {
     "data": {
      "text/plain": [
       "'20000'"
      ]
     },
     "execution_count": 31,
     "metadata": {},
     "output_type": "execute_result"
    }
   ],
   "source": [
    "emp.salary"
   ]
  },
  {
   "cell_type": "code",
   "execution_count": 32,
   "id": "b6e6a195",
   "metadata": {},
   "outputs": [
    {
     "name": "stdout",
     "output_type": "stream",
     "text": [
      "Ripon BBA 20000\n"
     ]
    }
   ],
   "source": [
    "print(emp)"
   ]
  }
 ],
 "metadata": {
  "kernelspec": {
   "display_name": "Python 3 (ipykernel)",
   "language": "python",
   "name": "python3"
  },
  "language_info": {
   "codemirror_mode": {
    "name": "ipython",
    "version": 3
   },
   "file_extension": ".py",
   "mimetype": "text/x-python",
   "name": "python",
   "nbconvert_exporter": "python",
   "pygments_lexer": "ipython3",
   "version": "3.9.7"
  }
 },
 "nbformat": 4,
 "nbformat_minor": 5
}
