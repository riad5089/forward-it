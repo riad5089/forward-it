{
 "cells": [
  {
   "cell_type": "markdown",
   "id": "3072a738",
   "metadata": {},
   "source": [
    "# OOP principles"
   ]
  },
  {
   "cell_type": "code",
   "execution_count": 1,
   "id": "9158b76d",
   "metadata": {},
   "outputs": [],
   "source": [
    "from abc import ABC, abstractmethod"
   ]
  },
  {
   "cell_type": "code",
   "execution_count": 2,
   "id": "69c4fc45",
   "metadata": {},
   "outputs": [],
   "source": [
    "class student(ABC):\n",
    "    def get"
   ]
  },
  {
   "cell_type": "code",
   "execution_count": 3,
   "id": "ddb248a5",
   "metadata": {},
   "outputs": [
    {
     "data": {
      "text/plain": [
       "5"
      ]
     },
     "execution_count": 3,
     "metadata": {},
     "output_type": "execute_result"
    }
   ],
   "source": []
  },
  {
   "cell_type": "code",
   "execution_count": null,
   "id": "77470793",
   "metadata": {},
   "outputs": [],
   "source": []
  }
 ],
 "metadata": {
  "kernelspec": {
   "display_name": "Python 3 (ipykernel)",
   "language": "python",
   "name": "python3"
  },
  "language_info": {
   "codemirror_mode": {
    "name": "ipython",
    "version": 3
   },
   "file_extension": ".py",
   "mimetype": "text/x-python",
   "name": "python",
   "nbconvert_exporter": "python",
   "pygments_lexer": "ipython3",
   "version": "3.9.7"
  }
 },
 "nbformat": 4,
 "nbformat_minor": 5
}
