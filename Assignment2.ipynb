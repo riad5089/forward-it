{
 "cells": [
  {
   "cell_type": "markdown",
   "id": "c17ed8cd",
   "metadata": {},
   "source": [
    "# Banking system"
   ]
  },
  {
   "cell_type": "code",
   "execution_count": 1,
   "id": "2df6291c",
   "metadata": {},
   "outputs": [
    {
     "name": "stdout",
     "output_type": "stream",
     "text": [
      "Enter amount to be Deposited: 500\n",
      "\n",
      " Amount Deposited: 500.0\n"
     ]
    }
   ],
   "source": [
    "class customer:\n",
    "    def __init__(self,name, age, nid, address):\n",
    "        self.name=name\n",
    "        self.age=age\n",
    "        self.nid=nid\n",
    "        self.address=address\n",
    "    \n",
    "   \n",
    "    def get_name(self):\n",
    "        return self.name\n",
    "\n",
    "    def get_age(self):\n",
    "        return self.age\n",
    "\n",
    "\n",
    "    def get_nid(self):\n",
    "        return self.nid\n",
    "\n",
    "    def get_address(self):\n",
    "        return self.address\n",
    "\n",
    "    def __str__(self):\n",
    "        return self.name + \" \" + self.age+\" \"+self.nid+\" \"+self.address\n",
    "    \n",
    "class cus_imp(customer):\n",
    "    pass\n",
    "    \n",
    "    \n",
    "class saving_acc(cus_imp):\n",
    "    deposit=0\n",
    "    withdraws=0\n",
    "    \n",
    "    def __init__(self,name, age, nid, address,account_number,opening_balance):\n",
    "        cus_imp.__init__(self,name, age, nid, address)\n",
    "        self.opening_balance=opening_balance\n",
    "        self.account_number=account_number\n",
    "    \n",
    "    def info(self):\n",
    "        return f\"{self.name} has a remaining balance of:{self.opening_balance}\"\n",
    "  \n",
    "    def deposit(self):\n",
    "        amount=float(input(\"Enter amount to be Deposited: \"))\n",
    "        self.opening_balance += amount\n",
    "        print(\"Amount Deposited:\",amount)\n",
    "        \n",
    "    def withdraw(self):\n",
    "        amount = float(input(\"Enter amount to be Withdrawn: \"))\n",
    "        if self.opening_balance>=amount:\n",
    "            self.opening_balance-=amount\n",
    "            print(\"\\n You Withdrew:\", amount)\n",
    "        else:\n",
    "            print(\"\\n Insufficient balance  \")\n",
    "    \n",
    "    def __str__(self):\n",
    "        return self.name +\" \"+str(self.age)+\" \"+str(self.nid)+\" \"+self.address+\" \"+str(self.opening_balance)\n",
    "acc=saving_acc('Riad',24,466,\"ctg\",1235,500)\n",
    "acc.info()\n",
    "acc.deposit()\n",
    "    "
   ]
  },
  {
   "cell_type": "code",
   "execution_count": 2,
   "id": "c6b200f6",
   "metadata": {},
   "outputs": [
    {
     "data": {
      "text/plain": [
       "'Riad has a remaining balance of:1000.0'"
      ]
     },
     "execution_count": 2,
     "metadata": {},
     "output_type": "execute_result"
    }
   ],
   "source": [
    "acc.info()"
   ]
  },
  {
   "cell_type": "code",
   "execution_count": 18,
   "id": "acbe629b",
   "metadata": {},
   "outputs": [
    {
     "name": "stdout",
     "output_type": "stream",
     "text": [
      "Enter amount to be Withdrawn: 400\n",
      "\n",
      " You Withdrew: 400.0\n"
     ]
    }
   ],
   "source": [
    "acc.withdraw()"
   ]
  },
  {
   "cell_type": "code",
   "execution_count": 19,
   "id": "10cf9636",
   "metadata": {},
   "outputs": [
    {
     "data": {
      "text/plain": [
       "'Riad has remaining balance of:1100.0'"
      ]
     },
     "execution_count": 19,
     "metadata": {},
     "output_type": "execute_result"
    }
   ],
   "source": [
    "acc.info()"
   ]
  },
  {
   "cell_type": "code",
   "execution_count": null,
   "id": "3712ed99",
   "metadata": {},
   "outputs": [],
   "source": []
  }
 ],
 "metadata": {
  "kernelspec": {
   "display_name": "Python 3 (ipykernel)",
   "language": "python",
   "name": "python3"
  },
  "language_info": {
   "codemirror_mode": {
    "name": "ipython",
    "version": 3
   },
   "file_extension": ".py",
   "mimetype": "text/x-python",
   "name": "python",
   "nbconvert_exporter": "python",
   "pygments_lexer": "ipython3",
   "version": "3.9.7"
  }
 },
 "nbformat": 4,
 "nbformat_minor": 5
}
