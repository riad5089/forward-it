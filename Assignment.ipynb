{
 "cells": [
  {
   "cell_type": "code",
   "execution_count": 3,
   "id": "3c849d93",
   "metadata": {},
   "outputs": [
    {
     "ename": "SyntaxError",
     "evalue": "invalid syntax (Temp/ipykernel_16128/88295123.py, line 4)",
     "output_type": "error",
     "traceback": [
      "\u001b[1;36m  File \u001b[1;32m\"C:\\Users\\ABDURR~1\\AppData\\Local\\Temp/ipykernel_16128/88295123.py\"\u001b[1;36m, line \u001b[1;32m4\u001b[0m\n\u001b[1;33m    salary=\u001b[0m\n\u001b[1;37m           ^\u001b[0m\n\u001b[1;31mSyntaxError\u001b[0m\u001b[1;31m:\u001b[0m invalid syntax\n"
     ]
    }
   ],
   "source": [
    "class Employee:\n",
    "    name=\"\"\n",
    "    dept=\"\"\n",
    "    salary=\"\"\n",
    "    def __init__(self,name,dept,salary):\n",
    "        self.name=name\n",
    "        self.dept=dept\n",
    "        self.salary=salary\n",
    "    def get_emp_name(self):\n",
    "        return self.name\n",
    "    def get_emp_dept(self):\n",
    "        return self.dept\n",
    "    def get_emp_salary(self):\n",
    "        return self.salary\n",
    "    def __str__(self):\n",
    "        return self.name+\"\"+self.dept+\"\"+self.salary"
   ]
  },
  {
   "cell_type": "code",
   "execution_count": 13,
   "id": "7fbe61e5",
   "metadata": {},
   "outputs": [],
   "source": [
    "emp=Employee(\"Ripon\",\"BBA\",\"20000\")"
   ]
  },
  {
   "cell_type": "code",
   "execution_count": 14,
   "id": "7a284aae",
   "metadata": {},
   "outputs": [
    {
     "data": {
      "text/plain": [
       "'Ripon'"
      ]
     },
     "execution_count": 14,
     "metadata": {},
     "output_type": "execute_result"
    }
   ],
   "source": [
    "emp.get_emp_name()"
   ]
  },
  {
   "cell_type": "code",
   "execution_count": 15,
   "id": "bc41c161",
   "metadata": {},
   "outputs": [
    {
     "data": {
      "text/plain": [
       "'BBA'"
      ]
     },
     "execution_count": 15,
     "metadata": {},
     "output_type": "execute_result"
    }
   ],
   "source": [
    "emp.get_emp_dept()"
   ]
  },
  {
   "cell_type": "code",
   "execution_count": 16,
   "id": "7f5688f3",
   "metadata": {},
   "outputs": [
    {
     "data": {
      "text/plain": [
       "'20000'"
      ]
     },
     "execution_count": 16,
     "metadata": {},
     "output_type": "execute_result"
    }
   ],
   "source": [
    "emp.get_emp_salary()"
   ]
  },
  {
   "cell_type": "code",
   "execution_count": 17,
   "id": "b0629962",
   "metadata": {},
   "outputs": [
    {
     "data": {
      "text/plain": [
       "'20000'"
      ]
     },
     "execution_count": 17,
     "metadata": {},
     "output_type": "execute_result"
    }
   ],
   "source": [
    "emp.salary"
   ]
  },
  {
   "cell_type": "code",
   "execution_count": 18,
   "id": "a14798af",
   "metadata": {},
   "outputs": [
    {
     "name": "stdout",
     "output_type": "stream",
     "text": [
      "RiponBBA20000\n"
     ]
    }
   ],
   "source": [
    "print(emp)"
   ]
  },
  {
   "cell_type": "code",
   "execution_count": null,
   "id": "50d1e2ee",
   "metadata": {},
   "outputs": [],
   "source": []
  }
 ],
 "metadata": {
  "kernelspec": {
   "display_name": "Python 3 (ipykernel)",
   "language": "python",
   "name": "python3"
  },
  "language_info": {
   "codemirror_mode": {
    "name": "ipython",
    "version": 3
   },
   "file_extension": ".py",
   "mimetype": "text/x-python",
   "name": "python",
   "nbconvert_exporter": "python",
   "pygments_lexer": "ipython3",
   "version": "3.9.7"
  }
 },
 "nbformat": 4,
 "nbformat_minor": 5
}
