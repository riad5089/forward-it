{
 "cells": [
  {
   "cell_type": "code",
   "execution_count": 1,
   "id": "b34dfb5a",
   "metadata": {},
   "outputs": [],
   "source": [
    "class Animal():\n",
    "    def __init__(self):\n",
    "        print(\"From animal class\")\n",
    "    def sound(sound):\n",
    "        return sound\n",
    "    def whichclass(self):\n",
    "        return \"From animal class\"\n",
    "class Dog(Animal):\n",
    "    def __init__(self):\n",
    "        super(Dog,self).__init__()\n",
    "        print(\"from dog class\")\n",
    "    def sound(sound):\n",
    "        return sound\n",
    "    def whichclass(self):\n",
    "        return \"From dog class\"\n",
    "class cat(Animal):\n",
    "    def __init__(self):\n",
    "        super(cat,self).__init__()\n",
    "        print(\"From cat class\")\n",
    "    def sound(sound):\n",
    "        return sound\n",
    "    def whichclass(self):\n",
    "        return \"From cat class\"\n",
    "    "
   ]
  },
  {
   "cell_type": "code",
   "execution_count": 2,
   "id": "e24a1fda",
   "metadata": {},
   "outputs": [
    {
     "name": "stdout",
     "output_type": "stream",
     "text": [
      "From animal class\n",
      "from dog class\n",
      "From animal class\n",
      "From cat class\n"
     ]
    }
   ],
   "source": [
    "animal=Dog()\n",
    "animal=cat()"
   ]
  }
 ],
 "metadata": {
  "kernelspec": {
   "display_name": "Python 3 (ipykernel)",
   "language": "python",
   "name": "python3"
  },
  "language_info": {
   "codemirror_mode": {
    "name": "ipython",
    "version": 3
   },
   "file_extension": ".py",
   "mimetype": "text/x-python",
   "name": "python",
   "nbconvert_exporter": "python",
   "pygments_lexer": "ipython3",
   "version": "3.9.7"
  }
 },
 "nbformat": 4,
 "nbformat_minor": 5
}
