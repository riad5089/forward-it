{
 "cells": [
  {
   "cell_type": "code",
   "execution_count": 8,
   "id": "093f22e1",
   "metadata": {},
   "outputs": [],
   "source": [
    "import mysql.connector as conn"
   ]
  },
  {
   "cell_type": "code",
   "execution_count": 10,
   "id": "9bb71e08",
   "metadata": {},
   "outputs": [
    {
     "data": {
      "text/plain": [
       "<mysql.connector.connection_cext.CMySQLConnection at 0x239af1dba30>"
      ]
     },
     "execution_count": 10,
     "metadata": {},
     "output_type": "execute_result"
    }
   ],
   "source": [
    "db=conn.connect(\n",
    "    host=\"localhost\",\n",
    "    user=\"root\",\n",
    "    password=\"\"\n",
    ")\n",
    "db"
   ]
  },
  {
   "cell_type": "code",
   "execution_count": null,
   "id": "d20391ab",
   "metadata": {},
   "outputs": [],
   "source": [
    "sql=\"CREATE DATABASE student\"\n",
    "cursor=db.cursor()\n",
    "cursor.execute(sql)"
   ]
  },
  {
   "cell_type": "code",
   "execution_count": null,
   "id": "2df7b7b8",
   "metadata": {},
   "outputs": [],
   "source": [
    "db=conn.connect(\n",
    "host=\"localhost\",\n",
    "user=\"root\",\n",
    "password=\"\",\n",
    "database=\"student\"\n",
    ")\n",
    "sql=\"CREATE TABLE student_info(id integer primary key auto_increment,name varchar(255),dept varchar(255))\"\n",
    "cursor=db.cursor()\n",
    "cursor.execute(sql)"
   ]
  },
  {
   "cell_type": "code",
   "execution_count": 15,
   "id": "91554ad4",
   "metadata": {},
   "outputs": [],
   "source": [
    "#insert data\n",
    "db=conn.connect(\n",
    "host=\"localhost\",\n",
    "user=\"root\",\n",
    "password=\"\",\n",
    "database=\"student\"\n",
    ")\n",
    "sql=\"INSERT INTO student_info(id,name,dept) VALUES(0,'RIAD','BBA')\"\n",
    "\n",
    "cursor=db.cursor()\n",
    "cursor.execute(sql)\n",
    "db.commit()\n",
    "cursor.close()\n",
    "db.close()"
   ]
  },
  {
   "cell_type": "code",
   "execution_count": 16,
   "id": "26ba6781",
   "metadata": {},
   "outputs": [],
   "source": [
    "#insert data\n",
    "db=conn.connect(\n",
    "host=\"localhost\",\n",
    "user=\"root\",\n",
    "password=\"\",\n",
    "database=\"student\"\n",
    ")\n",
    "sql=\"INSERT INTO student_info(id,name,dept) VALUES(0,'Ripon','CSC')\"\n",
    "\n",
    "cursor=db.cursor()\n",
    "cursor.execute(sql)\n",
    "db.commit()\n",
    "cursor.close()\n",
    "db.close()"
   ]
  },
  {
   "cell_type": "code",
   "execution_count": 19,
   "id": "a24b51a9",
   "metadata": {},
   "outputs": [
    {
     "name": "stdout",
     "output_type": "stream",
     "text": [
      "(1, 'RIAD', 'BBA')\n",
      "(2, 'Ripon', 'CSC')\n"
     ]
    }
   ],
   "source": [
    "#insert data\n",
    "db=conn.connect(\n",
    "host=\"localhost\",\n",
    "user=\"root\",\n",
    "password=\"\",\n",
    "database=\"student\"\n",
    ")\n",
    "sql=\"SELECT * FROM student_info\" \n",
    "\n",
    "cursor=db.cursor()\n",
    "cursor.execute(sql)\n",
    "#db.commit()\n",
    "res=cursor.fetchall()\n",
    "for i in res:\n",
    "    print(i)\n",
    "cursor.close()\n",
    "db.close()"
   ]
  },
  {
   "cell_type": "code",
   "execution_count": 20,
   "id": "c83d99a3",
   "metadata": {},
   "outputs": [
    {
     "data": {
      "text/plain": [
       "[(1, 'RIAD', 'BBA'), (2, 'Ripon', 'CSC')]"
      ]
     },
     "execution_count": 20,
     "metadata": {},
     "output_type": "execute_result"
    }
   ],
   "source": [
    "res"
   ]
  },
  {
   "cell_type": "code",
   "execution_count": 21,
   "id": "0d1ce86b",
   "metadata": {},
   "outputs": [
    {
     "name": "stdout",
     "output_type": "stream",
     "text": [
      "(1, 'RIAD', 'IT')\n",
      "(2, 'Ripon', 'CSC')\n"
     ]
    }
   ],
   "source": [
    "#update table\n",
    "db=conn.connect(\n",
    "host=\"localhost\",\n",
    "user=\"root\",\n",
    "password=\"\",\n",
    "database=\"student\"\n",
    ")\n",
    "sql=\"UPDATE  student_info SET dept='IT' WHERE id =1\"\n",
    "\n",
    "cursor=db.cursor()\n",
    "cursor.execute(sql)\n",
    "db.commit()\n",
    "cursor.close()\n",
    "db.close()\n",
    "\n",
    "# ###############\n",
    "\n",
    "db=conn.connect(\n",
    "host=\"localhost\",\n",
    "user=\"root\",\n",
    "password=\"\",\n",
    "database=\"student\"\n",
    ")\n",
    "sql=\"SELECT * FROM student_info\" \n",
    "\n",
    "cursor=db.cursor()\n",
    "cursor.execute(sql)\n",
    "#db.commit()\n",
    "res=cursor.fetchall()\n",
    "for i in res:\n",
    "    print(i)\n",
    "cursor.close()\n",
    "db.close()"
   ]
  },
  {
   "cell_type": "code",
   "execution_count": 23,
   "id": "0478b1b6",
   "metadata": {},
   "outputs": [
    {
     "name": "stdout",
     "output_type": "stream",
     "text": [
      "(2, 'Ripon', 'CSC')\n"
     ]
    }
   ],
   "source": [
    "#delete\n",
    "#update table\n",
    "db=conn.connect(\n",
    "host=\"localhost\",\n",
    "user=\"root\",\n",
    "password=\"\",\n",
    "database=\"student\"\n",
    ")\n",
    "sql=\"DELETE FROM student_info WHERE id=1\"\n",
    "\n",
    "cursor=db.cursor()\n",
    "cursor.execute(sql)\n",
    "db.commit()\n",
    "cursor.close()\n",
    "db.close()\n",
    "\n",
    "# ###############\n",
    "\n",
    "db=conn.connect(\n",
    "host=\"localhost\",\n",
    "user=\"root\",\n",
    "password=\"\",\n",
    "database=\"student\"\n",
    ")\n",
    "sql=\"SELECT * FROM student_info\" \n",
    "\n",
    "cursor=db.cursor()\n",
    "cursor.execute(sql)\n",
    "#db.commit()\n",
    "res=cursor.fetchall()\n",
    "for i in res:\n",
    "    print(i)\n",
    "cursor.close()\n",
    "db.close()"
   ]
  }
 ],
 "metadata": {
  "kernelspec": {
   "display_name": "Python 3 (ipykernel)",
   "language": "python",
   "name": "python3"
  },
  "language_info": {
   "codemirror_mode": {
    "name": "ipython",
    "version": 3
   },
   "file_extension": ".py",
   "mimetype": "text/x-python",
   "name": "python",
   "nbconvert_exporter": "python",
   "pygments_lexer": "ipython3",
   "version": "3.9.7"
  }
 },
 "nbformat": 4,
 "nbformat_minor": 5
}
