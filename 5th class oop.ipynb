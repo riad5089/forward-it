{
 "cells": [
  {
   "cell_type": "markdown",
   "id": "a3617966",
   "metadata": {},
   "source": [
    "# class"
   ]
  },
  {
   "cell_type": "code",
   "execution_count": 32,
   "id": "42cbac25",
   "metadata": {},
   "outputs": [],
   "source": [
    "#class ,oop principles->1.abstraction,2.encapsulation, 3.inheritance, 4.polymorphism\n",
    "class student:\n",
    "    #global variable\n",
    "    name=\"Md Ripon\"\n",
    "    dep=\"cse\"\n",
    "    \n",
    "    def get_stu_name(self):\n",
    "        return self.name\n",
    "        #return self.dep\n",
    "  \n",
    "    # attribute #function\n",
    "    "
   ]
  },
  {
   "cell_type": "code",
   "execution_count": 33,
   "id": "1b47b99a",
   "metadata": {},
   "outputs": [],
   "source": [
    "st=student()"
   ]
  },
  {
   "cell_type": "code",
   "execution_count": 34,
   "id": "2c37d633",
   "metadata": {},
   "outputs": [
    {
     "data": {
      "text/plain": [
       "'Md Ripon'"
      ]
     },
     "execution_count": 34,
     "metadata": {},
     "output_type": "execute_result"
    }
   ],
   "source": [
    "st.name"
   ]
  },
  {
   "cell_type": "code",
   "execution_count": 35,
   "id": "2d772dc6",
   "metadata": {},
   "outputs": [
    {
     "data": {
      "text/plain": [
       "'cse'"
      ]
     },
     "execution_count": 35,
     "metadata": {},
     "output_type": "execute_result"
    }
   ],
   "source": [
    "st.dep"
   ]
  },
  {
   "cell_type": "code",
   "execution_count": 36,
   "id": "8878c65a",
   "metadata": {},
   "outputs": [],
   "source": [
    "st.name=\"md riad\""
   ]
  },
  {
   "cell_type": "code",
   "execution_count": 37,
   "id": "143169b5",
   "metadata": {},
   "outputs": [
    {
     "data": {
      "text/plain": [
       "'md riad'"
      ]
     },
     "execution_count": 37,
     "metadata": {},
     "output_type": "execute_result"
    }
   ],
   "source": [
    "st.name"
   ]
  },
  {
   "cell_type": "code",
   "execution_count": 38,
   "id": "93359d41",
   "metadata": {},
   "outputs": [],
   "source": [
    "st.dep='BBa'"
   ]
  },
  {
   "cell_type": "code",
   "execution_count": 39,
   "id": "598e798b",
   "metadata": {},
   "outputs": [
    {
     "data": {
      "text/plain": [
       "'BBa'"
      ]
     },
     "execution_count": 39,
     "metadata": {},
     "output_type": "execute_result"
    }
   ],
   "source": [
    "st.dep"
   ]
  },
  {
   "cell_type": "code",
   "execution_count": 40,
   "id": "cad011c7",
   "metadata": {},
   "outputs": [
    {
     "data": {
      "text/plain": [
       "'md riad'"
      ]
     },
     "execution_count": 40,
     "metadata": {},
     "output_type": "execute_result"
    }
   ],
   "source": [
    "st.get_stu_name()"
   ]
  },
  {
   "cell_type": "code",
   "execution_count": 78,
   "id": "3375cfb5",
   "metadata": {},
   "outputs": [],
   "source": [
    "#class ,oop principles->1.abstraction,2.encapsulation, 3.inheritance, 4.polymorphism\n",
    "class student:\n",
    "    #global variable\n",
    "    name=\"\"\n",
    "    dep=\"\"\n",
    "    #constructor\n",
    "    def __init__(self,name,dep):\n",
    "        self.name=name\n",
    "        self.dep=dep\n",
    "        \n",
    "        #now name and dep is local variable\n",
    "\n",
    "    def get_stu_name(self):\n",
    "        return self.name\n",
    "    def get_stu_dep(self):\n",
    "        return self.dep\n",
    "    def __str__(self):\n",
    "        return self.name+\" \"+self.dep\n",
    "    # attribute #function\n",
    "    "
   ]
  },
  {
   "cell_type": "code",
   "execution_count": 80,
   "id": "01cec7f4",
   "metadata": {},
   "outputs": [],
   "source": [
    "s=student(\"samim\",\"it\")"
   ]
  },
  {
   "cell_type": "code",
   "execution_count": 73,
   "id": "b02a67c9",
   "metadata": {},
   "outputs": [
    {
     "data": {
      "text/plain": [
       "'samim'"
      ]
     },
     "execution_count": 73,
     "metadata": {},
     "output_type": "execute_result"
    }
   ],
   "source": [
    "s.get_stu_name()"
   ]
  },
  {
   "cell_type": "code",
   "execution_count": 74,
   "id": "67921dc0",
   "metadata": {},
   "outputs": [
    {
     "data": {
      "text/plain": [
       "'it'"
      ]
     },
     "execution_count": 74,
     "metadata": {},
     "output_type": "execute_result"
    }
   ],
   "source": [
    "s.get_stu_dep()"
   ]
  },
  {
   "cell_type": "code",
   "execution_count": 75,
   "id": "ea8a6801",
   "metadata": {},
   "outputs": [
    {
     "data": {
      "text/plain": [
       "'samim'"
      ]
     },
     "execution_count": 75,
     "metadata": {},
     "output_type": "execute_result"
    }
   ],
   "source": [
    "s.name"
   ]
  },
  {
   "cell_type": "code",
   "execution_count": 76,
   "id": "1307fcbd",
   "metadata": {},
   "outputs": [
    {
     "data": {
      "text/plain": [
       "'it'"
      ]
     },
     "execution_count": 76,
     "metadata": {},
     "output_type": "execute_result"
    }
   ],
   "source": [
    "s.dep"
   ]
  },
  {
   "cell_type": "code",
   "execution_count": 82,
   "id": "a3426bfd",
   "metadata": {},
   "outputs": [
    {
     "name": "stdout",
     "output_type": "stream",
     "text": [
      "samim it\n"
     ]
    }
   ],
   "source": [
    "print(s)"
   ]
  },
  {
   "cell_type": "code",
   "execution_count": null,
   "id": "b863664f",
   "metadata": {},
   "outputs": [],
   "source": []
  },
  {
   "cell_type": "code",
   "execution_count": null,
   "id": "5bb2187d",
   "metadata": {},
   "outputs": [],
   "source": []
  }
 ],
 "metadata": {
  "kernelspec": {
   "display_name": "Python 3 (ipykernel)",
   "language": "python",
   "name": "python3"
  },
  "language_info": {
   "codemirror_mode": {
    "name": "ipython",
    "version": 3
   },
   "file_extension": ".py",
   "mimetype": "text/x-python",
   "name": "python",
   "nbconvert_exporter": "python",
   "pygments_lexer": "ipython3",
   "version": "3.9.7"
  }
 },
 "nbformat": 4,
 "nbformat_minor": 5
}
