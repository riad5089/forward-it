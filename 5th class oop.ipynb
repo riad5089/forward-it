{
 "cells": [
  {
   "cell_type": "markdown",
   "id": "a3617966",
   "metadata": {},
   "source": [
    "# class"
   ]
  },
  {
   "cell_type": "code",
   "execution_count": 1,
   "id": "42cbac25",
   "metadata": {},
   "outputs": [],
   "source": [
    "#class ,oop principles->1.abstraction,2.encapsulation, 3.inheritance, 4.polymorphism\n",
    "class student:\n",
    "    #global variable\n",
    "    name=\"Md Ripon\"\n",
    "    dep=\"cse\"\n",
    "    \n",
    "    def get_stu_name(self):\n",
    "        return self.name\n",
    "        #return self.dep\n",
    "  \n",
    "    # attribute #function\n",
    "    "
   ]
  },
  {
   "cell_type": "code",
   "execution_count": 2,
   "id": "4ef3da2b",
   "metadata": {},
   "outputs": [],
   "source": [
    "st=student()"
   ]
  },
  {
   "cell_type": "code",
   "execution_count": 3,
   "id": "04ad2ff2",
   "metadata": {},
   "outputs": [
    {
     "data": {
      "text/plain": [
       "'Md Ripon'"
      ]
     },
     "execution_count": 3,
     "metadata": {},
     "output_type": "execute_result"
    }
   ],
   "source": [
    "st.name"
   ]
  },
  {
   "cell_type": "code",
   "execution_count": 4,
   "id": "f70cb16d",
   "metadata": {},
   "outputs": [
    {
     "data": {
      "text/plain": [
       "'cse'"
      ]
     },
     "execution_count": 4,
     "metadata": {},
     "output_type": "execute_result"
    }
   ],
   "source": [
    "st.dep"
   ]
  },
  {
   "cell_type": "code",
   "execution_count": 5,
   "id": "a7ebe373",
   "metadata": {},
   "outputs": [],
   "source": [
    "st.name=\"md riad\""
   ]
  },
  {
   "cell_type": "code",
   "execution_count": 6,
   "id": "2a067207",
   "metadata": {},
   "outputs": [
    {
     "data": {
      "text/plain": [
       "'md riad'"
      ]
     },
     "execution_count": 6,
     "metadata": {},
     "output_type": "execute_result"
    }
   ],
   "source": [
    "st.name"
   ]
  },
  {
   "cell_type": "code",
   "execution_count": 7,
   "id": "46606b67",
   "metadata": {},
   "outputs": [],
   "source": [
    "st.dep='BBa'"
   ]
  },
  {
   "cell_type": "code",
   "execution_count": 8,
   "id": "f51f8de0",
   "metadata": {},
   "outputs": [
    {
     "data": {
      "text/plain": [
       "'BBa'"
      ]
     },
     "execution_count": 8,
     "metadata": {},
     "output_type": "execute_result"
    }
   ],
   "source": [
    "st.dep"
   ]
  },
  {
   "cell_type": "code",
   "execution_count": 9,
   "id": "643a4c59",
   "metadata": {},
   "outputs": [
    {
     "data": {
      "text/plain": [
       "'md riad'"
      ]
     },
     "execution_count": 9,
     "metadata": {},
     "output_type": "execute_result"
    }
   ],
   "source": [
    "st.get_stu_name()"
   ]
  },
  {
   "cell_type": "code",
   "execution_count": 10,
   "id": "3f4693ec",
   "metadata": {},
   "outputs": [],
   "source": [
    "#class ,oop principles->1.abstraction,2.encapsulation, 3.inheritance, 4.polymorphism\n",
    "class student:\n",
    "    #global variable\n",
    "    name=\"\"\n",
    "    dep=\"\"\n",
    "    #constructor\n",
    "    def __init__(self,name,dep):\n",
    "        self.name=name\n",
    "        self.dep=dep\n",
    "        \n",
    "        #now name and dep is local variable\n",
    "\n",
    "    def get_stu_name(self):\n",
    "        return self.name\n",
    "    def get_stu_dep(self):\n",
    "        return self.dep\n",
    "    #def __str__(self):\n",
    "        #return self.name+\" \"+self.dep\n",
    "    # attribute #function\n",
    "    "
   ]
  },
  {
   "cell_type": "code",
   "execution_count": 11,
   "id": "d9283a34",
   "metadata": {},
   "outputs": [],
   "source": [
    "s=student(\"samim\",\"it\")"
   ]
  },
  {
   "cell_type": "code",
   "execution_count": 12,
   "id": "b1532aa4",
   "metadata": {},
   "outputs": [
    {
     "data": {
      "text/plain": [
       "'samim'"
      ]
     },
     "execution_count": 12,
     "metadata": {},
     "output_type": "execute_result"
    }
   ],
   "source": [
    "s.get_stu_name()"
   ]
  },
  {
   "cell_type": "code",
   "execution_count": 13,
   "id": "f4f713df",
   "metadata": {},
   "outputs": [
    {
     "data": {
      "text/plain": [
       "'it'"
      ]
     },
     "execution_count": 13,
     "metadata": {},
     "output_type": "execute_result"
    }
   ],
   "source": [
    "s.get_stu_dep()"
   ]
  },
  {
   "cell_type": "code",
   "execution_count": 14,
   "id": "e20ce682",
   "metadata": {},
   "outputs": [
    {
     "data": {
      "text/plain": [
       "'samim'"
      ]
     },
     "execution_count": 14,
     "metadata": {},
     "output_type": "execute_result"
    }
   ],
   "source": [
    "s.name"
   ]
  },
  {
   "cell_type": "code",
   "execution_count": 15,
   "id": "a9b90298",
   "metadata": {},
   "outputs": [
    {
     "data": {
      "text/plain": [
       "'it'"
      ]
     },
     "execution_count": 15,
     "metadata": {},
     "output_type": "execute_result"
    }
   ],
   "source": [
    "s.dep"
   ]
  },
  {
   "cell_type": "code",
   "execution_count": 16,
   "id": "5b447f5b",
   "metadata": {},
   "outputs": [
    {
     "name": "stdout",
     "output_type": "stream",
     "text": [
      "<__main__.student object at 0x000001C60F49E340>\n"
     ]
    }
   ],
   "source": [
    "print(s)"
   ]
  },
  {
   "cell_type": "code",
   "execution_count": null,
   "id": "588ca9f7",
   "metadata": {},
   "outputs": [],
   "source": []
  },
  {
   "cell_type": "code",
   "execution_count": null,
   "id": "927e0096",
   "metadata": {},
   "outputs": [],
   "source": []
  }
 ],
 "metadata": {
  "kernelspec": {
   "display_name": "Python 3 (ipykernel)",
   "language": "python",
   "name": "python3"
  },
  "language_info": {
   "codemirror_mode": {
    "name": "ipython",
    "version": 3
   },
   "file_extension": ".py",
   "mimetype": "text/x-python",
   "name": "python",
   "nbconvert_exporter": "python",
   "pygments_lexer": "ipython3",
   "version": "3.9.7"
  }
 },
 "nbformat": 4,
 "nbformat_minor": 5
}
